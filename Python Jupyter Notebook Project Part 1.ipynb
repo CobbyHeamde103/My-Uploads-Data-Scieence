{
 "cells": [
  {
   "cell_type": "code",
   "execution_count": 2,
   "id": "7a430247",
   "metadata": {},
   "outputs": [
    {
     "name": "stdout",
     "output_type": "stream",
     "text": [
      "Invalid file .DS_Store skipped.\n",
      "Invalid file .DS_Store skipped.\n",
      "Invalid file .DS_Store skipped.\n",
      "Invalid file 26 copy 3.jpg skipped.\n",
      "Invalid file .DS_Store skipped.\n",
      "Invalid file 2 copy 4.jpg skipped.\n",
      "Invalid file 0 copy 3.jpg skipped.\n"
     ]
    },
    {
     "name": "stderr",
     "output_type": "stream",
     "text": [
      "libpng warning: bKGD: invalid\n"
     ]
    },
    {
     "name": "stdout",
     "output_type": "stream",
     "text": [
      "[[ 40 201  13 ...  24  24  24]\n",
      " [145  99  24 ...  18  19  19]\n",
      " [ 21  22  20 ...  26  29  45]\n",
      " ...\n",
      " [133 151 132 ...  98  98  99]\n",
      " [  0   0   0 ...   0   0   0]\n",
      " [ 10  10  10 ...  10  10  10]]\n",
      "['chest_xray', 'chest_xray', 'chest_xray', 'chest_xray', 'chest_xray', 'chest_xray', 'chest_xray', 'chest_xray', 'chest_xray', 'chest_xray', 'chest_xray', 'chest_xray', 'chest_xray', 'chest_xray', 'chest_xray', 'chest_xray', 'chest_xray', 'chest_xray', 'chest_xray', 'chest_xray', 'chest_xray', 'chest_xray', 'chest_xray', 'chest_xray', 'chest_xray', 'chest_xray', 'chest_xray', 'chest_xray', 'chest_xray', 'chest_xray', 'chest_xray', 'chest_xray', 'chest_xray', 'chest_xray', 'chest_xray', 'chest_xray', 'chest_xray', 'chest_xray', 'chest_xray', 'chest_xray', 'chest_xray', 'chest_xray', 'chest_xray', 'chest_xray', 'chest_xray', 'chest_xray', 'chest_xray', 'chest_xray', 'chest_xray', 'chest_xray', 'chest_xray', 'chest_xray', 'chest_xray', 'chest_xray', 'chest_xray', 'chest_xray', 'chest_xray', 'chest_xray', 'chest_xray', 'chest_xray', 'chest_xray', 'chest_xray', 'chest_xray', 'chest_xray', 'chest_xray', 'chest_xray', 'chest_xray', 'chest_xray', 'chest_xray', 'chest_xray', 'chest_xray', 'chest_xray', 'chest_xray', 'chest_xray', 'chest_xray', 'chest_xray', 'chest_xray', 'chest_xray', 'chest_xray', 'chest_xray', 'chest_xray', 'chest_xray', 'chest_xray', 'chest_xray', 'chest_xray', 'chest_xray', 'chest_xray', 'chest_xray', 'chest_xray', 'chest_xray', 'chest_xray', 'chest_xray', 'chest_xray', 'chest_xray', 'chest_xray', 'chest_xray', 'chest_xray', 'chest_xray', 'chest_xray', 'chest_xray', 'chest_xray', 'chest_xray', 'chest_xray', 'chest_xray', 'chest_xray', 'chest_xray', 'chest_xray', 'chest_xray', 'chest_xray', 'chest_xray', 'chest_xray', 'chest_xray', 'chest_xray', 'chest_xray', 'chest_xray', 'chest_xray', 'chest_xray', 'chest_xray', 'chest_xray', 'chest_xray', 'chest_xray', 'chest_xray', 'chest_xray', 'chest_xray', 'chest_xray', 'chest_xray', 'chest_xray', 'chest_xray', 'chest_xray', 'chest_xray', 'chest_xray', 'chest_xray', 'chest_xray', 'chest_xray', 'chest_xray', 'chest_xray', 'chest_xray', 'chest_xray', 'chest_xray', 'chest_xray', 'chest_xray', 'chest_xray', 'chest_xray', 'chest_xray', 'chest_xray', 'chest_xray', 'chest_xray', 'chest_xray', 'chest_xray', 'chest_xray', 'chest_xray', 'chest_xray', 'chest_xray', 'chest_xray', 'chest_xray', 'chest_xray', 'chest_xray', 'chest_xray', 'chest_xray', 'chest_xray', 'chest_xray', 'chest_xray', 'chest_xray', 'chest_xray', 'chest_xray', 'chest_xray', 'chest_xray', 'chest_xray', 'chest_xray', 'chest_xray', 'chest_xray', 'chest_xray', 'chest_xray', 'chest_xray', 'chest_xray', 'chest_xray', 'chest_xray', 'chest_xray', 'chest_xray', 'chest_xray', 'chest_xray', 'chest_xray', 'chest_xray', 'chest_xray', 'chest_xray', 'chest_xray', 'chest_xray', 'chest_xray', 'chest_xray', 'chest_xray', 'chest_xray', 'chest_xray', 'chest_xray', 'chest_xray', 'chest_xray', 'chest_xray', 'chest_xray', 'chest_xray', 'chest_xray', 'chest_xray', 'chest_xray', 'chest_xray', 'chest_xray', 'chest_xray', 'chest_xray', 'chest_xray', 'chest_xray', 'chest_xray', 'chest_xray', 'chest_xray', 'chest_xray', 'chest_xray', 'chest_xray', 'chest_xray', 'chest_xray', 'chest_xray', 'chest_xray', 'chest_xray', 'chest_xray', 'chest_xray', 'chest_xray', 'chest_xray', 'chest_xray', 'chest_xray', 'chest_xray', 'chest_xray', 'chest_xray', 'chest_xray', 'chest_xray', 'chest_xray', 'chest_xray', 'chest_xray', 'chest_xray', 'chest_xray', 'chest_xray', 'chest_xray', 'chest_xray', 'chest_xray', 'chest_xray', 'chest_xray', 'chest_xray', 'chest_xray', 'chest_xray', 'chest_xray', 'chest_xray', 'chest_xray', 'chest_xray', 'chest_xray', 'chest_xray', 'chest_xray', 'chest_xray', 'chest_xray', 'chest_xray', 'chest_xray', 'chest_xray', 'chest_xray', 'chest_xray', 'chest_xray', 'chest_xray', 'chest_xray', 'chest_xray', 'chest_xray', 'chest_xray', 'chest_xray', 'chest_xray', 'chest_xray', 'chest_xray', 'chest_xray', 'chest_xray', 'chest_xray', 'chest_xray', 'chest_xray', 'chest_xray', 'chest_xray', 'chest_xray', 'chest_xray', 'chest_xray', 'chest_xray', 'chest_xray', 'chest_xray', 'chest_xray', 'chest_xray', 'chest_xray', 'chest_xray', 'chest_xray', 'chest_xray', 'chest_xray', 'chest_xray', 'chest_xray', 'chest_xray', 'chest_xray', 'chest_xray', 'chest_xray', 'chest_xray', 'chest_xray', 'chest_xray', 'chest_xray', 'chest_xray', 'chest_xray', 'chest_xray', 'chest_xray', 'chest_xray', 'chest_xray', 'chest_xray', 'chest_xray', 'chest_xray', 'chest_xray', 'chest_xray', 'chest_xray', 'chest_xray', 'chest_xray', 'chest_xray', 'chest_xray', 'chest_xray', 'chest_xray', 'chest_xray', 'chest_xray', 'chest_xray', 'chest_xray', 'chest_xray', 'chest_xray', 'chest_xray', 'chest_xray', 'chest_xray', 'chest_xray', 'chest_xray', 'chest_xray', 'chest_xray', 'chest_xray', 'chest_xray', 'chest_xray', 'chest_xray', 'chest_xray', 'chest_xray', 'chest_xray', 'chest_xray', 'chest_xray', 'chest_xray', 'chest_xray', 'chest_xray', 'chest_xray', 'chest_xray', 'chest_xray', 'chest_xray', 'chest_xray', 'chest_xray', 'chest_xray', 'chest_xray', 'chest_xray', 'chest_xray', 'chest_xray', 'chest_xray', 'chest_xray', 'chest_xray', 'chest_xray', 'chest_xray', 'chest_xray', 'chest_xray', 'chest_xray', 'chest_xray', 'chest_xray', 'chest_xray', 'chest_xray', 'chest_xray', 'chest_xray', 'chest_xray', 'chest_xray', 'chest_xray', 'chest_xray', 'chest_xray', 'chest_xray', 'chest_xray', 'chest_xray', 'chest_xray', 'chest_xray', 'chest_xray', 'chest_xray', 'chest_xray', 'chest_xray', 'chest_xray', 'chest_xray', 'chest_xray', 'chest_xray', 'chest_xray', 'chest_xray', 'chest_xray', 'chest_xray', 'chest_xray', 'chest_xray', 'chest_xray', 'chest_xray', 'chest_xray', 'chest_xray', 'chest_xray', 'chest_xray', 'chest_xray', 'chest_xray', 'chest_xray', 'chest_xray', 'chest_xray', 'chest_xray', 'chest_xray', 'chest_xray', 'chest_xray', 'chest_xray', 'chest_xray', 'chest_xray', 'chest_xray', 'chest_xray', 'chest_xray', 'chest_xray', 'chest_xray', 'chest_xray', 'chest_xray', 'chest_xray', 'chest_xray', 'chest_xray', 'chest_xray', 'chest_xray', 'chest_xray', 'chest_xray', 'chest_xray', 'chest_xray', 'chest_xray', 'chest_xray', 'chest_xray', 'chest_xray', 'chest_xray', 'chest_xray', 'chest_xray', 'chest_xray', 'chest_xray', 'chest_xray', 'chest_xray', 'chest_xray', 'chest_xray', 'chest_xray', 'chest_xray', 'chest_xray', 'chest_xray', 'chest_xray', 'chest_xray', 'chest_xray', 'chest_xray', 'chest_xray', 'chest_xray', 'chest_xray', 'chest_xray', 'chest_xray', 'chest_xray', 'chest_xray', 'chest_xray', 'chest_xray', 'chest_xray', 'chest_xray', 'chest_xray', 'chest_xray', 'chest_xray', 'chest_xray', 'chest_xray', 'chest_xray', 'chest_xray', 'chest_xray', 'chest_xray', 'chest_xray', 'chest_xray', 'chest_xray', 'chest_xray', 'chest_xray', 'chest_xray', 'chest_xray', 'chest_xray', 'chest_xray', 'chest_xray', 'chest_xray', 'chest_xray', 'chest_xray', 'chest_xray', 'chest_xray', 'chest_xray', 'chest_xray', 'chest_xray', 'chest_xray', 'chest_xray', 'chest_xray', 'chest_xray', 'chest_xray', 'chest_xray', 'chest_xray', 'chest_xray', 'chest_xray', 'chest_xray', 'chest_xray', 'chest_xray', 'chest_xray', 'chest_xray', 'chest_xray', 'chest_xray', 'chest_xray', 'chest_xray', 'chest_xray', 'chest_xray', 'chest_xray', 'chest_xray', 'chest_xray', 'chest_xray', 'chest_xray', 'chest_xray', 'chest_xray', 'chest_xray', 'chest_xray', 'chest_xray', 'chest_xray', 'chest_xray', 'chest_xray', 'chest_xray', 'chest_xray', 'chest_xray', 'chest_xray', 'chest_xray', 'chest_xray', 'chest_xray', 'chest_xray', 'chest_xray', 'chest_xray', 'chest_xray', 'chest_xray', 'chest_xray', 'chest_xray', 'chest_xray', 'chest_xray', 'chest_xray', 'chest_xray', 'chest_xray', 'chest_xray', 'chest_xray', 'chest_xray', 'chest_xray', 'chest_xray', 'chest_xray', 'chest_xray', 'chest_xray', 'chest_xray', 'chest_xray', 'chest_xray', 'chest_xray', 'chest_xray', 'chest_xray', 'chest_xray', 'chest_xray', 'chest_xray', 'chest_xray', 'chest_xray', 'chest_xray', 'chest_xray', 'chest_xray', 'chest_xray', 'chest_xray', 'chest_xray', 'chest_xray', 'chest_xray', 'chest_xray', 'chest_xray', 'chest_xray', 'chest_xray', 'chest_xray', 'chest_xray', 'chest_xray', 'chest_xray', 'chest_xray', 'chest_xray', 'chest_xray', 'chest_xray', 'chest_xray', 'chest_xray', 'chest_xray', 'chest_xray', 'chest_xray', 'chest_xray', 'chest_xray', 'chest_xray', 'chest_xray', 'chest_xray', 'chest_xray', 'chest_xray', 'chest_xray', 'chest_xray', 'chest_xray', 'chest_xray', 'chest_xray', 'chest_xray', 'chest_xray', 'chest_xray', 'chest_xray', 'chest_xray', 'chest_xray', 'chest_xray', 'chest_xray', 'chest_xray', 'chest_xray', 'chest_xray', 'chest_xray', 'chest_xray', 'chest_xray', 'chest_xray', 'chest_xray', 'chest_xray', 'chest_xray', 'chest_xray', 'chest_xray', 'chest_xray', 'chest_xray', 'chest_xray', 'chest_xray', 'chest_xray', 'chest_xray', 'chest_xray', 'chest_xray', 'chest_xray', 'chest_xray', 'chest_xray', 'chest_xray', 'chest_xray', 'chest_xray', 'Cardiac', 'Cardiac', 'Cardiac', 'Cardiac', 'Cardiac', 'Cardiac', 'Cardiac', 'Cardiac', 'Cardiac', 'Cardiac', 'Cardiac', 'Cardiac', 'Cardiac', 'Cardiac', 'Cardiac', 'Cardiac', 'Cardiac', 'Cardiac', 'Cardiac', 'Cardiac', 'Cardiac', 'Cardiac', 'Cardiac', 'Cardiac', 'Cardiac', 'Cardiac', 'Cardiac', 'Cardiac', 'Cardiac', 'Cardiac', 'Cardiac', 'Cardiac', 'Cardiac', 'Cardiac', 'Cardiac', 'Cardiac', 'Cardiac', 'Cardiac', 'Cardiac', 'Cardiac', 'Cardiac', 'Cardiac', 'Cardiac', 'Cardiac', 'Cardiac', 'Cardiac', 'Cardiac', 'Cardiac', 'Cardiac', 'Cardiac', 'Cardiac', 'Cardiac', 'Cardiac', 'Cardiac', 'Cardiac', 'Cardiac', 'Cardiac', 'Cardiac', 'Cardiac', 'Cardiac', 'Cardiac', 'Cardiac', 'Cardiac', 'Cardiac', 'Cardiac', 'Cardiac', 'Cardiac', 'Cardiac', 'Cardiac', 'Cardiac', 'Cardiac', 'Cardiac', 'Cardiac', 'Cardiac', 'Cardiac', 'Cardiac', 'Cardiac', 'Cardiac', 'Cardiac', 'Cardiac', 'Cardiac', 'Cardiac', 'Cardiac', 'Cardiac', 'Cardiac', 'Cardiac', 'Cardiac', 'Cardiac', 'Cardiac', 'Cardiac', 'Cardiac', 'Cardiac', 'Cardiac', 'Cardiac', 'Cardiac', 'Cardiac', 'Cardiac', 'Cardiac', 'Cardiac', 'Cardiac', 'Cardiac', 'Cardiac', 'Cardiac', 'Cardiac', 'Cardiac', 'Cardiac', 'Cardiac', 'Cardiac', 'Cardiac', 'Cardiac', 'Cardiac', 'Cardiac', 'Cardiac', 'Cardiac', 'Cardiac', 'Cardiac', 'Cardiac', 'Cardiac', 'Cardiac', 'Cardiac', 'Cardiac', 'Cardiac', 'Cardiac', 'Cardiac', 'Cardiac', 'Cardiac', 'Cardiac', 'Cardiac', 'Cardiac', 'Cardiac', 'Cardiac', 'Cardiac', 'Cardiac', 'Cardiac', 'Cardiac', 'Cardiac', 'Cardiac', 'Cardiac', 'Cardiac', 'Cardiac', 'Cardiac', 'Cardiac', 'Cardiac', 'Cardiac', 'Cardiac', 'Cardiac', 'Cardiac', 'Cardiac', 'Cardiac', 'Cardiac', 'Cardiac', 'Cardiac', 'Cardiac', 'Cardiac', 'Cardiac', 'Cardiac', 'Cardiac', 'Cardiac', 'Cardiac', 'Cardiac', 'Cardiac', 'Cardiac', 'Cardiac', 'Cardiac', 'Cardiac', 'Cardiac', 'Cardiac', 'Cardiac', 'Cardiac', 'Cardiac', 'Cardiac', 'Cardiac', 'Cardiac', 'Cardiac', 'Cardiac', 'Cardiac', 'Cardiac', 'Cardiac', 'Cardiac', 'Cardiac', 'Cardiac', 'Cardiac', 'Cardiac', 'Cardiac', 'Cardiac', 'Cardiac', 'Cardiac', 'Cardiac', 'Cardiac', 'Cardiac', 'Cardiac', 'Cardiac', 'Cardiac', 'Cardiac', 'Cardiac', 'Cardiac', 'Cardiac', 'Cardiac', 'Cardiac', 'Cardiac', 'Cardiac', 'Cardiac', 'Cardiac', 'Cardiac', 'Cardiac', 'Cardiac', 'Cardiac', 'Cardiac', 'Cardiac', 'Cardiac', 'Cardiac', 'Cardiac', 'Cardiac', 'Cardiac', 'Cardiac', 'Cardiac', 'Cardiac', 'Cardiac', 'Cardiac', 'Cardiac', 'Cardiac', 'Cardiac', 'Cardiac', 'Cardiac', 'Cardiac', 'Cardiac', 'Cardiac', 'Cardiac', 'Cardiac', 'Cardiac', 'Cardiac', 'Cardiac', 'Cardiac', 'Cardiac', 'Cardiac', 'Cardiac', 'Cardiac', 'Cardiac', 'Cardiac', 'Cardiac', 'Cardiac', 'Cardiac', 'Cardiac', 'Cardiac', 'Cardiac', 'Cardiac', 'Cardiac', 'Cardiac', 'Cardiac', 'Cardiac', 'Cardiac', 'Cardiac', 'Cardiac', 'Cardiac', 'Cardiac', 'Cardiac', 'Cardiac', 'Cardiac', 'Cardiac', 'Cardiac', 'Cardiac', 'Cardiac', 'Cardiac', 'Cardiac', 'Cardiac', 'Cardiac', 'Cardiac', 'Cardiac', 'Cardiac', 'Cardiac', 'Cardiac', 'Cardiac', 'Cardiac', 'Cardiac', 'Cardiac', 'Cardiac', 'Cardiac', 'Cardiac', 'Cardiac', 'Cardiac', 'Cardiac', 'Cardiac', 'Cardiac', 'Cardiac', 'Cardiac', 'Cardiac', 'Cardiac', 'Cardiac', 'Cardiac', 'Cardiac', 'Cardiac', 'Cardiac', 'Cardiac', 'Cardiac', 'Cardiac', 'Cardiac', 'Cardiac', 'Cardiac', 'Cardiac', 'Cardiac', 'Cardiac', 'Cardiac', 'Cardiac', 'Cardiac', 'Cardiac', 'Cardiac', 'Cardiac', 'Cardiac', 'Cardiac', 'Cardiac', 'Cardiac', 'Cardiac', 'Cardiac', 'Cardiac', 'Cardiac', 'Cardiac', 'Cardiac', 'Cardiac', 'Cardiac', 'Cardiac', 'Cardiac', 'Cardiac', 'Cardiac', 'Cardiac', 'Cardiac', 'Cardiac', 'Cardiac', 'Cardiac', 'Cardiac', 'Cardiac', 'Cardiac', 'Cardiac', 'Cardiac', 'Cardiac', 'Cardiac', 'Cardiac', 'Cardiac', 'Cardiac', 'Cardiac', 'Cardiac', 'Cardiac', 'Cardiac', 'Cardiac', 'Cardiac', 'Cardiac', 'Cardiac', 'Cardiac', 'Cardiac', 'Cardiac', 'Cardiac', 'Cardiac', 'Cardiac', 'Cardiac', 'Cardiac', 'Cardiac', 'Cardiac', 'Cardiac', 'Cardiac', 'Cardiac', 'Cardiac', 'Cardiac', 'Cardiac', 'Cardiac', 'Cardiac', 'Cardiac', 'Cardiac', 'Cardiac', 'Cardiac', 'Cardiac', 'Cardiac', 'Cardiac', 'Cardiac', 'Cardiac', 'Cardiac', 'Cardiac', 'Cardiac', 'Cardiac', 'Cardiac', 'Cardiac', 'Cardiac', 'Cardiac', 'Cardiac', 'Cardiac', 'Cardiac', 'Cardiac', 'Cardiac', 'Cardiac', 'Cardiac', 'Cardiac', 'Cardiac', 'Cardiac', 'Cardiac', 'Cardiac', 'Cardiac', 'Cardiac', 'Cardiac', 'Cardiac', 'Cardiac', 'Cardiac', 'Cardiac', 'Cardiac', 'Cardiac', 'Cardiac', 'Cardiac', 'Cardiac', 'Cardiac', 'Cardiac', 'Cardiac', 'Cardiac', 'Cardiac', 'Cardiac', 'Cardiac', 'Cardiac', 'Cardiac', 'Cardiac', 'Cardiac', 'Cardiac', 'Cardiac', 'Cardiac', 'Cardiac', 'Cardiac', 'Cardiac', 'Cardiac', 'Cardiac', 'Cardiac', 'Cardiac', 'Cardiac', 'Cardiac', 'Cardiac', 'Cardiac', 'Cardiac', 'Cardiac', 'Cardiac', 'Cardiac', 'Cardiac', 'Cardiac', 'Cardiac', 'Cardiac', 'Cardiac', 'Cardiac', 'Cardiac', 'Cardiac', 'Cardiac', 'Cardiac', 'Cardiac', 'Cardiac', 'Cardiac', 'Cardiac', 'Cardiac', 'Cardiac', 'Cardiac', 'Cardiac', 'Cardiac', 'Cardiac', 'Cardiac', 'Cardiac', 'Cardiac', 'Cardiac', 'Cardiac', 'Cardiac', 'Cardiac', 'Cardiac', 'Cardiac', 'Cardiac', 'Cardiac', 'Cardiac', 'Cardiac', 'Cardiac', 'Cardiac', 'Cardiac', 'Cardiac', 'Cardiac', 'Cardiac', 'Cardiac', 'Cardiac', 'Cardiac', 'Cardiac', 'Cardiac', 'Cardiac', 'Cardiac', 'Cardiac', 'Cardiac', 'Cardiac', 'Cardiac', 'Cardiac', 'Cardiac', 'Cardiac', 'Cardiac', 'Cardiac', 'Cardiac', 'Cardiac', 'Cardiac', 'Cardiac', 'Cardiac', 'Cardiac', 'Cardiac', 'Cardiac', 'Cardiac', 'Cardiac', 'Cardiac', 'Cardiac', 'Cardiac', 'Cardiac', 'Cardiac', 'Cardiac', 'Cardiac', 'Cardiac', 'Cardiac', 'Cardiac', 'Cardiac', 'Cardiac', 'Cardiac', 'Cardiac', 'Cardiac', 'Cardiac', 'Cardiac', 'fracture', 'fracture', 'fracture', 'fracture', 'fracture', 'fracture', 'fracture', 'fracture', 'fracture', 'fracture', 'fracture', 'fracture', 'fracture', 'fracture', 'fracture', 'fracture', 'fracture', 'fracture', 'fracture', 'fracture', 'fracture', 'fracture', 'fracture', 'fracture', 'fracture', 'fracture', 'fracture', 'fracture', 'fracture', 'fracture', 'fracture', 'fracture', 'fracture', 'fracture', 'fracture', 'fracture', 'fracture', 'fracture', 'fracture', 'fracture', 'fracture', 'fracture', 'fracture', 'fracture', 'fracture', 'fracture', 'fracture', 'fracture', 'fracture', 'fracture', 'fracture', 'fracture', 'fracture', 'fracture', 'fracture', 'fracture', 'fracture', 'fracture', 'fracture', 'fracture', 'fracture', 'fracture', 'fracture', 'fracture', 'fracture', 'fracture', 'fracture', 'fracture', 'fracture', 'fracture', 'fracture', 'fracture', 'fracture', 'fracture', 'fracture', 'fracture', 'fracture', 'fracture', 'fracture', 'fracture', 'fracture', 'fracture', 'fracture', 'fracture', 'fracture', 'fracture', 'fracture', 'fracture', 'fracture', 'fracture', 'fracture', 'fracture', 'fracture', 'fracture', 'fracture', 'fracture', 'fracture', 'fracture', 'fracture', 'fracture', 'fracture', 'fracture', 'fracture', 'fracture', 'fracture', 'fracture', 'fracture', 'fracture', 'fracture', 'fracture', 'fracture', 'fracture', 'fracture', 'fracture', 'fracture', 'fracture', 'fracture', 'fracture', 'fracture', 'fracture', 'fracture', 'fracture', 'fracture', 'fracture', 'fracture', 'fracture', 'fracture', 'fracture', 'fracture', 'fracture', 'fracture', 'fracture', 'fracture', 'fracture', 'fracture', 'fracture', 'fracture', 'fracture', 'fracture', 'fracture', 'fracture', 'fracture', 'fracture', 'fracture', 'fracture', 'fracture', 'fracture', 'fracture', 'fracture', 'fracture', 'fracture', 'fracture', 'fracture', 'fracture', 'fracture', 'fracture', 'fracture', 'fracture', 'fracture', 'fracture', 'fracture', 'fracture', 'fracture', 'fracture', 'fracture', 'fracture', 'fracture', 'fracture', 'fracture', 'fracture', 'fracture', 'fracture', 'fracture', 'fracture', 'fracture', 'fracture', 'fracture', 'fracture', 'fracture', 'fracture', 'fracture', 'fracture', 'fracture', 'fracture', 'fracture', 'fracture', 'fracture', 'fracture', 'fracture', 'fracture', 'fracture', 'fracture', 'fracture', 'fracture', 'fracture', 'fracture', 'fracture', 'fracture', 'fracture', 'fracture', 'fracture', 'fracture', 'fracture', 'fracture', 'fracture', 'fracture', 'fracture', 'fracture', 'fracture', 'fracture', 'fracture', 'fracture', 'fracture', 'fracture', 'fracture', 'fracture', 'fracture', 'fracture', 'fracture', 'fracture', 'fracture', 'fracture', 'fracture', 'fracture', 'fracture', 'fracture', 'fracture', 'fracture', 'fracture', 'fracture', 'fracture', 'fracture', 'fracture', 'fracture', 'fracture', 'fracture', 'fracture', 'fracture', 'fracture', 'fracture', 'fracture', 'fracture', 'fracture', 'fracture', 'fracture', 'fracture', 'fracture', 'fracture', 'fracture', 'fracture', 'fracture', 'fracture', 'fracture', 'fracture', 'fracture', 'fracture', 'fracture', 'fracture', 'fracture', 'fracture', 'fracture', 'fracture', 'fracture', 'fracture', 'fracture', 'fracture', 'fracture', 'fracture', 'fracture', 'fracture', 'fracture', 'fracture', 'fracture', 'fracture', 'fracture', 'fracture', 'fracture', 'fracture', 'fracture', 'fracture', 'fracture', 'fracture', 'fracture', 'fracture', 'fracture', 'fracture', 'fracture', 'fracture', 'fracture', 'fracture', 'fracture', 'fracture', 'fracture', 'fracture', 'fracture', 'fracture', 'fracture', 'fracture', 'fracture', 'fracture', 'fracture', 'fracture', 'fracture', 'fracture', 'fracture', 'fracture', 'fracture', 'fracture', 'fracture', 'fracture', 'fracture', 'fracture', 'fracture', 'fracture', 'fracture', 'fracture', 'fracture', 'fracture', 'fracture', 'fracture', 'fracture', 'fracture', 'fracture', 'fracture', 'fracture', 'fracture', 'fracture', 'fracture', 'fracture', 'fracture', 'fracture', 'fracture', 'fracture', 'fracture', 'fracture', 'fracture', 'fracture', 'fracture', 'fracture', 'fracture', 'fracture', 'fracture', 'fracture', 'fracture', 'fracture', 'fracture', 'fracture', 'fracture', 'fracture', 'fracture', 'fracture', 'fracture', 'fracture', 'fracture', 'fracture', 'fracture', 'fracture', 'fracture', 'fracture', 'fracture', 'fracture', 'fracture', 'fracture', 'fracture', 'fracture', 'fracture', 'fracture', 'fracture', 'fracture', 'fracture', 'fracture', 'fracture', 'fracture', 'fracture', 'fracture', 'fracture', 'fracture', 'fracture', 'fracture', 'fracture', 'fracture', 'fracture', 'fracture', 'fracture', 'fracture', 'fracture', 'fracture', 'fracture', 'fracture', 'fracture', 'fracture', 'fracture', 'fracture', 'fracture', 'fracture', 'fracture', 'fracture', 'fracture', 'fracture', 'fracture', 'fracture', 'fracture', 'fracture', 'fracture', 'fracture', 'fracture', 'fracture', 'fracture', 'fracture', 'fracture', 'fracture', 'fracture', 'fracture', 'fracture', 'fracture', 'fracture', 'fracture', 'fracture', 'fracture', 'fracture', 'fracture', 'fracture', 'fracture', 'fracture', 'fracture', 'fracture', 'fracture', 'fracture', 'fracture', 'fracture', 'fracture', 'fracture', 'fracture', 'fracture', 'fracture', 'fracture', 'fracture', 'fracture', 'fracture', 'fracture', 'fracture', 'fracture', 'fracture', 'fracture', 'fracture', 'fracture', 'fracture', 'fracture', 'fracture', 'fracture', 'fracture', 'fracture', 'fracture', 'fracture', 'fracture', 'fracture', 'fracture', 'fracture', 'fracture', 'fracture', 'fracture', 'fracture', 'fracture', 'fracture', 'fracture', 'fracture', 'fracture', 'fracture', 'fracture', 'fracture', 'fracture', 'fracture', 'fracture', 'fracture', 'fracture', 'fracture', 'fracture', 'fracture', 'fracture', 'fracture', 'fracture', 'fracture', 'fracture', 'fracture', 'fracture', 'fracture', 'fracture', 'fracture', 'fracture', 'fracture', 'fracture', 'fracture', 'fracture', 'fracture', 'fracture', 'fracture', 'fracture', 'fracture', 'fracture', 'fracture', 'fracture', 'fracture', 'fracture', 'fracture', 'fracture', 'fracture', 'fracture', 'fracture', 'fracture', 'fracture', 'fracture', 'fracture', 'fracture', 'fracture']\n"
     ]
    }
   ],
   "source": [
    "import os\n",
    "import numpy as np\n",
    "import cv2\n",
    "resize_width = 100\n",
    "resize_height = 100\n",
    "path = 'scans'\n",
    "images = [] # List to append the images as 2D numpy arrays.\n",
    "target = [] # List to append the target\n",
    "originalrepo = [] # Create a repo for flattened pixels\n",
    "\n",
    "for root, dirs, files in os.walk(path):\n",
    "     for file in files:\n",
    "        with open(os.path.join(root, file), \"r\") as auto:\n",
    "            try:\n",
    "                img = cv2.imread(root+'/'+file, 0)\n",
    "                img = cv2.resize(img, (resize_width, resize_height)) \n",
    "                images.append(img)\n",
    "                # Append the flattened image to the pixel repo\n",
    "                originalrepo.append(img.flatten())\n",
    "                # Append the folder where the image is to the target list\n",
    "                target.append(root.replace(path,'').replace('\\\\','').replace('/',''))\n",
    "            except Exception as e:\n",
    "                print(\"Invalid file \"+file+\" skipped.\")\n",
    "# Convert the repo list into numpy array\n",
    "originalrepo = np.array(originalrepo) \n",
    "print(originalrepo)\n",
    "print(target)"
   ]
  },
  {
   "cell_type": "markdown",
   "id": "58d8c314",
   "metadata": {},
   "source": [
    "Files retrieved from:"
   ]
  },
  {
   "cell_type": "markdown",
   "id": "cc5bab60",
   "metadata": {},
   "source": [
    "https://www.kaggle.com/danialsharifrazi/cad-cardiac-mri-dataset"
   ]
  },
  {
   "cell_type": "markdown",
   "id": "1660bd42",
   "metadata": {},
   "source": [
    "https://www.kaggle.com/tommyngx/hand-fracture-mini-model"
   ]
  },
  {
   "cell_type": "markdown",
   "id": "258f7bf9",
   "metadata": {},
   "source": [
    "https://www.kaggle.com/paultimothymooney/chest-xray-pneumonia"
   ]
  },
  {
   "cell_type": "markdown",
   "id": "c0c63365",
   "metadata": {},
   "source": [
    "******************************************************************"
   ]
  },
  {
   "cell_type": "markdown",
   "id": "baddb223",
   "metadata": {},
   "source": [
    "Name: Cobblah Hemade\n"
   ]
  },
  {
   "cell_type": "markdown",
   "id": "84f76389",
   "metadata": {},
   "source": [
    "ID:   2119970"
   ]
  },
  {
   "cell_type": "markdown",
   "id": "1aa01b41",
   "metadata": {},
   "source": [
    "Course Work 1"
   ]
  },
  {
   "cell_type": "code",
   "execution_count": null,
   "id": "90a94fa9",
   "metadata": {},
   "outputs": [],
   "source": [
    "files i have in a class"
   ]
  }
 ],
 "metadata": {
  "kernelspec": {
   "display_name": "Python 3 (ipykernel)",
   "language": "python",
   "name": "python3"
  },
  "language_info": {
   "codemirror_mode": {
    "name": "ipython",
    "version": 3
   },
   "file_extension": ".py",
   "mimetype": "text/x-python",
   "name": "python",
   "nbconvert_exporter": "python",
   "pygments_lexer": "ipython3",
   "version": "3.9.7"
  }
 },
 "nbformat": 4,
 "nbformat_minor": 5
}
